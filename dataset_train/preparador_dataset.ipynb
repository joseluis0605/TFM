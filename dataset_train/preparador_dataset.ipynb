{
 "cells": [
  {
   "metadata": {},
   "cell_type": "markdown",
   "source": [
    "<font size=\"4\">\n",
    "\n",
    "### Preparador de dataset de entrenamiento\n",
    "\n",
    "En este fichero nos vamos a centrar en la preparación de nuestro **dataset de entrenamiento** para el modelo de traducción.\n",
    "\n",
    "Actualmente, los datos que tenemos están organizados en un formato muy sencillo: cada fila contiene un par de frases, donde la primera columna corresponde a una frase en **inglés** y la segunda columna a su traducción en **español**, es decir:\n",
    "\n",
    "```\n",
    "[ingles, español]\n",
    "```\n",
    "\n",
    "Para mejorar la capacidad de nuestro modelo y aumentar la cantidad de datos de entrenamiento disponibles, vamos a **ampliar el dataset** creando un nuevo conjunto de datos donde cada par se duplica, pero invirtiendo los idiomas. De esta manera, por cada fila original `[ingles, español]`, generaremos también una fila `[español, ingles]`.\n",
    "\n",
    "El resultado será un dataset que contenga **todas las combinaciones posibles de entrada y salida**, permitiendo que nuestro modelo aprenda a traducir en **ambas direcciones**. El nuevo formato del dataset final quedará así:\n",
    "\n",
    "```\n",
    "[ingles, español]  # traducción original\n",
    "[español, ingles]  # traducción invertida\n",
    "```\n",
    "\n",
    "Este enfoque nos permite **maximizar la información de entrenamiento** sin necesidad de recolectar datos adicionales, lo que es especialmente útil si contamos con un dataset limitado. Además, ayuda a que el modelo sea más versátil y capaz de traducir de español a inglés y viceversa."
   ],
   "id": "c932293330429ac7"
  },
  {
   "cell_type": "code",
   "id": "initial_id",
   "metadata": {
    "collapsed": true,
    "ExecuteTime": {
     "end_time": "2025-09-17T08:48:56.307291Z",
     "start_time": "2025-09-17T08:48:56.296333Z"
    }
   },
   "source": "import pandas as pd",
   "outputs": [],
   "execution_count": 55
  },
  {
   "metadata": {
    "ExecuteTime": {
     "end_time": "2025-09-17T08:48:56.416175Z",
     "start_time": "2025-09-17T08:48:56.313593Z"
    }
   },
   "cell_type": "code",
   "source": [
    "# para usar otro, simplemente debemos cambiar el fichero.csv de la funcion read_csv\n",
    "nombre_dataset_entrada = \"dataset_English-Spanish_Translation_Dataset.csv\"\n",
    "nombre_dataset_generado = \"merge_small.csv\" # tendra 1000 lineas primeras\n",
    "\n",
    "dataset = pd.read_csv(nombre_dataset_entrada, sep= \",\")\n",
    "\n",
    "dataset.head(10)"
   ],
   "id": "198a4889c0b68188",
   "outputs": [
    {
     "data": {
      "text/plain": [
       "  english     spanish\n",
       "0     Go.         Ve.\n",
       "1     Go.       Vete.\n",
       "2     Go.       Vaya.\n",
       "3     Go.     Váyase.\n",
       "4     Hi.       Hola.\n",
       "5    Run!     ¡Corre!\n",
       "6    Run.     Corred.\n",
       "7    Who?     ¿Quién?\n",
       "8   Fire!     ¡Fuego!\n",
       "9   Fire!  ¡Incendio!"
      ],
      "text/html": [
       "<div>\n",
       "<style scoped>\n",
       "    .dataframe tbody tr th:only-of-type {\n",
       "        vertical-align: middle;\n",
       "    }\n",
       "\n",
       "    .dataframe tbody tr th {\n",
       "        vertical-align: top;\n",
       "    }\n",
       "\n",
       "    .dataframe thead th {\n",
       "        text-align: right;\n",
       "    }\n",
       "</style>\n",
       "<table border=\"1\" class=\"dataframe\">\n",
       "  <thead>\n",
       "    <tr style=\"text-align: right;\">\n",
       "      <th></th>\n",
       "      <th>english</th>\n",
       "      <th>spanish</th>\n",
       "    </tr>\n",
       "  </thead>\n",
       "  <tbody>\n",
       "    <tr>\n",
       "      <th>0</th>\n",
       "      <td>Go.</td>\n",
       "      <td>Ve.</td>\n",
       "    </tr>\n",
       "    <tr>\n",
       "      <th>1</th>\n",
       "      <td>Go.</td>\n",
       "      <td>Vete.</td>\n",
       "    </tr>\n",
       "    <tr>\n",
       "      <th>2</th>\n",
       "      <td>Go.</td>\n",
       "      <td>Vaya.</td>\n",
       "    </tr>\n",
       "    <tr>\n",
       "      <th>3</th>\n",
       "      <td>Go.</td>\n",
       "      <td>Váyase.</td>\n",
       "    </tr>\n",
       "    <tr>\n",
       "      <th>4</th>\n",
       "      <td>Hi.</td>\n",
       "      <td>Hola.</td>\n",
       "    </tr>\n",
       "    <tr>\n",
       "      <th>5</th>\n",
       "      <td>Run!</td>\n",
       "      <td>¡Corre!</td>\n",
       "    </tr>\n",
       "    <tr>\n",
       "      <th>6</th>\n",
       "      <td>Run.</td>\n",
       "      <td>Corred.</td>\n",
       "    </tr>\n",
       "    <tr>\n",
       "      <th>7</th>\n",
       "      <td>Who?</td>\n",
       "      <td>¿Quién?</td>\n",
       "    </tr>\n",
       "    <tr>\n",
       "      <th>8</th>\n",
       "      <td>Fire!</td>\n",
       "      <td>¡Fuego!</td>\n",
       "    </tr>\n",
       "    <tr>\n",
       "      <th>9</th>\n",
       "      <td>Fire!</td>\n",
       "      <td>¡Incendio!</td>\n",
       "    </tr>\n",
       "  </tbody>\n",
       "</table>\n",
       "</div>"
      ]
     },
     "execution_count": 56,
     "metadata": {},
     "output_type": "execute_result"
    }
   ],
   "execution_count": 56
  },
  {
   "metadata": {
    "ExecuteTime": {
     "end_time": "2025-09-17T08:48:56.433924Z",
     "start_time": "2025-09-17T08:48:56.420422Z"
    }
   },
   "cell_type": "code",
   "source": [
    "# Crear la versión inversa del dataset\n",
    "df_invertido = dataset.rename(columns={\"english\": \"spanish\", \"spanish\": \"english\"})"
   ],
   "id": "4dd496eb2735e475",
   "outputs": [],
   "execution_count": 57
  },
  {
   "metadata": {
    "ExecuteTime": {
     "end_time": "2025-09-17T08:48:56.446112Z",
     "start_time": "2025-09-17T08:48:56.443865Z"
    }
   },
   "cell_type": "code",
   "source": [
    "# Concatenar el dataset original con el inverso\n",
    "df_final = pd.concat([dataset.head(1000), df_invertido.head(1000)], ignore_index=True)"
   ],
   "id": "ec2356c52b8017e3",
   "outputs": [],
   "execution_count": 58
  },
  {
   "metadata": {
    "ExecuteTime": {
     "end_time": "2025-09-17T08:48:56.475222Z",
     "start_time": "2025-09-17T08:48:56.472310Z"
    }
   },
   "cell_type": "code",
   "source": "df_final.head(10)",
   "id": "b1eead904e58b20e",
   "outputs": [
    {
     "data": {
      "text/plain": [
       "  english     spanish\n",
       "0     Go.         Ve.\n",
       "1     Go.       Vete.\n",
       "2     Go.       Vaya.\n",
       "3     Go.     Váyase.\n",
       "4     Hi.       Hola.\n",
       "5    Run!     ¡Corre!\n",
       "6    Run.     Corred.\n",
       "7    Who?     ¿Quién?\n",
       "8   Fire!     ¡Fuego!\n",
       "9   Fire!  ¡Incendio!"
      ],
      "text/html": [
       "<div>\n",
       "<style scoped>\n",
       "    .dataframe tbody tr th:only-of-type {\n",
       "        vertical-align: middle;\n",
       "    }\n",
       "\n",
       "    .dataframe tbody tr th {\n",
       "        vertical-align: top;\n",
       "    }\n",
       "\n",
       "    .dataframe thead th {\n",
       "        text-align: right;\n",
       "    }\n",
       "</style>\n",
       "<table border=\"1\" class=\"dataframe\">\n",
       "  <thead>\n",
       "    <tr style=\"text-align: right;\">\n",
       "      <th></th>\n",
       "      <th>english</th>\n",
       "      <th>spanish</th>\n",
       "    </tr>\n",
       "  </thead>\n",
       "  <tbody>\n",
       "    <tr>\n",
       "      <th>0</th>\n",
       "      <td>Go.</td>\n",
       "      <td>Ve.</td>\n",
       "    </tr>\n",
       "    <tr>\n",
       "      <th>1</th>\n",
       "      <td>Go.</td>\n",
       "      <td>Vete.</td>\n",
       "    </tr>\n",
       "    <tr>\n",
       "      <th>2</th>\n",
       "      <td>Go.</td>\n",
       "      <td>Vaya.</td>\n",
       "    </tr>\n",
       "    <tr>\n",
       "      <th>3</th>\n",
       "      <td>Go.</td>\n",
       "      <td>Váyase.</td>\n",
       "    </tr>\n",
       "    <tr>\n",
       "      <th>4</th>\n",
       "      <td>Hi.</td>\n",
       "      <td>Hola.</td>\n",
       "    </tr>\n",
       "    <tr>\n",
       "      <th>5</th>\n",
       "      <td>Run!</td>\n",
       "      <td>¡Corre!</td>\n",
       "    </tr>\n",
       "    <tr>\n",
       "      <th>6</th>\n",
       "      <td>Run.</td>\n",
       "      <td>Corred.</td>\n",
       "    </tr>\n",
       "    <tr>\n",
       "      <th>7</th>\n",
       "      <td>Who?</td>\n",
       "      <td>¿Quién?</td>\n",
       "    </tr>\n",
       "    <tr>\n",
       "      <th>8</th>\n",
       "      <td>Fire!</td>\n",
       "      <td>¡Fuego!</td>\n",
       "    </tr>\n",
       "    <tr>\n",
       "      <th>9</th>\n",
       "      <td>Fire!</td>\n",
       "      <td>¡Incendio!</td>\n",
       "    </tr>\n",
       "  </tbody>\n",
       "</table>\n",
       "</div>"
      ]
     },
     "execution_count": 59,
     "metadata": {},
     "output_type": "execute_result"
    }
   ],
   "execution_count": 59
  },
  {
   "metadata": {
    "ExecuteTime": {
     "end_time": "2025-09-17T08:48:56.497151Z",
     "start_time": "2025-09-17T08:48:56.493635Z"
    }
   },
   "cell_type": "code",
   "source": "df_final.tail(10)",
   "id": "e9fa489ff3a8d19b",
   "outputs": [
    {
     "data": {
      "text/plain": [
       "                    english      spanish\n",
       "1990               Confíen.  Have faith.\n",
       "1991      Él salió a comer.  He ate out.\n",
       "1992                 Tosió.  He coughed.\n",
       "1993          Él se rindió.  He gave in.\n",
       "1994             Se rindió.  He gave up.\n",
       "1995               Lo dejó.  He gave up.\n",
       "1996                 Cedió.  He gave up.\n",
       "1997        Tiró la toalla.  He gave up.\n",
       "1998              Descolgó.  He hung up.\n",
       "1999  Él cogió el teléfono.  He hung up."
      ],
      "text/html": [
       "<div>\n",
       "<style scoped>\n",
       "    .dataframe tbody tr th:only-of-type {\n",
       "        vertical-align: middle;\n",
       "    }\n",
       "\n",
       "    .dataframe tbody tr th {\n",
       "        vertical-align: top;\n",
       "    }\n",
       "\n",
       "    .dataframe thead th {\n",
       "        text-align: right;\n",
       "    }\n",
       "</style>\n",
       "<table border=\"1\" class=\"dataframe\">\n",
       "  <thead>\n",
       "    <tr style=\"text-align: right;\">\n",
       "      <th></th>\n",
       "      <th>english</th>\n",
       "      <th>spanish</th>\n",
       "    </tr>\n",
       "  </thead>\n",
       "  <tbody>\n",
       "    <tr>\n",
       "      <th>1990</th>\n",
       "      <td>Confíen.</td>\n",
       "      <td>Have faith.</td>\n",
       "    </tr>\n",
       "    <tr>\n",
       "      <th>1991</th>\n",
       "      <td>Él salió a comer.</td>\n",
       "      <td>He ate out.</td>\n",
       "    </tr>\n",
       "    <tr>\n",
       "      <th>1992</th>\n",
       "      <td>Tosió.</td>\n",
       "      <td>He coughed.</td>\n",
       "    </tr>\n",
       "    <tr>\n",
       "      <th>1993</th>\n",
       "      <td>Él se rindió.</td>\n",
       "      <td>He gave in.</td>\n",
       "    </tr>\n",
       "    <tr>\n",
       "      <th>1994</th>\n",
       "      <td>Se rindió.</td>\n",
       "      <td>He gave up.</td>\n",
       "    </tr>\n",
       "    <tr>\n",
       "      <th>1995</th>\n",
       "      <td>Lo dejó.</td>\n",
       "      <td>He gave up.</td>\n",
       "    </tr>\n",
       "    <tr>\n",
       "      <th>1996</th>\n",
       "      <td>Cedió.</td>\n",
       "      <td>He gave up.</td>\n",
       "    </tr>\n",
       "    <tr>\n",
       "      <th>1997</th>\n",
       "      <td>Tiró la toalla.</td>\n",
       "      <td>He gave up.</td>\n",
       "    </tr>\n",
       "    <tr>\n",
       "      <th>1998</th>\n",
       "      <td>Descolgó.</td>\n",
       "      <td>He hung up.</td>\n",
       "    </tr>\n",
       "    <tr>\n",
       "      <th>1999</th>\n",
       "      <td>Él cogió el teléfono.</td>\n",
       "      <td>He hung up.</td>\n",
       "    </tr>\n",
       "  </tbody>\n",
       "</table>\n",
       "</div>"
      ]
     },
     "execution_count": 60,
     "metadata": {},
     "output_type": "execute_result"
    }
   ],
   "execution_count": 60
  },
  {
   "metadata": {
    "ExecuteTime": {
     "end_time": "2025-09-17T08:48:56.511099Z",
     "start_time": "2025-09-17T08:48:56.506478Z"
    }
   },
   "cell_type": "code",
   "source": [
    "# Opcional: guardar el nuevo dataset\n",
    "df_final.to_csv(nombre_dataset_generado, index=False)"
   ],
   "id": "bed68388c976d7a5",
   "outputs": [],
   "execution_count": 61
  }
 ],
 "metadata": {
  "kernelspec": {
   "display_name": "Python 3",
   "language": "python",
   "name": "python3"
  },
  "language_info": {
   "codemirror_mode": {
    "name": "ipython",
    "version": 2
   },
   "file_extension": ".py",
   "mimetype": "text/x-python",
   "name": "python",
   "nbconvert_exporter": "python",
   "pygments_lexer": "ipython2",
   "version": "2.7.6"
  }
 },
 "nbformat": 4,
 "nbformat_minor": 5
}
