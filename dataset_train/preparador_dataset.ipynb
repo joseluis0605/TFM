{
 "cells": [
  {
   "metadata": {},
   "cell_type": "markdown",
   "source": [
    "<font size=\"4\">\n",
    "\n",
    "### Preparador de dataset de entrenamiento\n",
    "\n",
    "En este fichero nos vamos a centrar en la preparación de nuestro **dataset de entrenamiento** para el modelo de traducción.\n",
    "\n",
    "Actualmente, los datos que tenemos están organizados en un formato muy sencillo: cada fila contiene un par de frases, donde la primera columna corresponde a una frase en **inglés** y la segunda columna a su traducción en **español**, es decir:\n",
    "\n",
    "```\n",
    "[ingles, español]\n",
    "```\n",
    "\n",
    "Para mejorar la capacidad de nuestro modelo y aumentar la cantidad de datos de entrenamiento disponibles, vamos a **ampliar el dataset** creando un nuevo conjunto de datos donde cada par se duplica, pero invirtiendo los idiomas. De esta manera, por cada fila original `[ingles, español]`, generaremos también una fila `[español, ingles]`.\n",
    "\n",
    "El resultado será un dataset que contenga **todas las combinaciones posibles de entrada y salida**, permitiendo que nuestro modelo aprenda a traducir en **ambas direcciones**. El nuevo formato del dataset final quedará así:\n",
    "\n",
    "```\n",
    "[ingles, español]  # traducción original\n",
    "[español, ingles]  # traducción invertida\n",
    "```\n",
    "\n",
    "Este enfoque nos permite **maximizar la información de entrenamiento** sin necesidad de recolectar datos adicionales, lo que es especialmente útil si contamos con un dataset limitado. Además, ayuda a que el modelo sea más versátil y capaz de traducir de español a inglés y viceversa."
   ],
   "id": "c932293330429ac7"
  },
  {
   "cell_type": "code",
   "id": "initial_id",
   "metadata": {
    "collapsed": true,
    "ExecuteTime": {
     "end_time": "2025-09-17T15:02:00.287994Z",
     "start_time": "2025-09-17T15:02:00.279900Z"
    }
   },
   "source": [
    "import pandas as pd\n",
    "import numpy as np"
   ],
   "outputs": [],
   "execution_count": 20
  },
  {
   "metadata": {
    "ExecuteTime": {
     "end_time": "2025-09-17T15:02:00.403159Z",
     "start_time": "2025-09-17T15:02:00.298830Z"
    }
   },
   "cell_type": "code",
   "source": [
    "# para usar otro, simplemente debemos cambiar el fichero.csv de la funcion read_csv\n",
    "nombre_dataset_entrada = \"dataset_English-Spanish_Translation_Dataset.csv\"\n",
    "\n",
    "dataset = pd.read_csv(nombre_dataset_entrada, sep= \",\")\n",
    "\n",
    "dataset.head(10)"
   ],
   "id": "198a4889c0b68188",
   "outputs": [
    {
     "data": {
      "text/plain": [
       "  idioma  traduccion\n",
       "0    Go.         Ve.\n",
       "1    Go.       Vete.\n",
       "2    Go.       Vaya.\n",
       "3    Go.     Váyase.\n",
       "4    Hi.       Hola.\n",
       "5   Run!     ¡Corre!\n",
       "6   Run.     Corred.\n",
       "7   Who?     ¿Quién?\n",
       "8  Fire!     ¡Fuego!\n",
       "9  Fire!  ¡Incendio!"
      ],
      "text/html": [
       "<div>\n",
       "<style scoped>\n",
       "    .dataframe tbody tr th:only-of-type {\n",
       "        vertical-align: middle;\n",
       "    }\n",
       "\n",
       "    .dataframe tbody tr th {\n",
       "        vertical-align: top;\n",
       "    }\n",
       "\n",
       "    .dataframe thead th {\n",
       "        text-align: right;\n",
       "    }\n",
       "</style>\n",
       "<table border=\"1\" class=\"dataframe\">\n",
       "  <thead>\n",
       "    <tr style=\"text-align: right;\">\n",
       "      <th></th>\n",
       "      <th>idioma</th>\n",
       "      <th>traduccion</th>\n",
       "    </tr>\n",
       "  </thead>\n",
       "  <tbody>\n",
       "    <tr>\n",
       "      <th>0</th>\n",
       "      <td>Go.</td>\n",
       "      <td>Ve.</td>\n",
       "    </tr>\n",
       "    <tr>\n",
       "      <th>1</th>\n",
       "      <td>Go.</td>\n",
       "      <td>Vete.</td>\n",
       "    </tr>\n",
       "    <tr>\n",
       "      <th>2</th>\n",
       "      <td>Go.</td>\n",
       "      <td>Vaya.</td>\n",
       "    </tr>\n",
       "    <tr>\n",
       "      <th>3</th>\n",
       "      <td>Go.</td>\n",
       "      <td>Váyase.</td>\n",
       "    </tr>\n",
       "    <tr>\n",
       "      <th>4</th>\n",
       "      <td>Hi.</td>\n",
       "      <td>Hola.</td>\n",
       "    </tr>\n",
       "    <tr>\n",
       "      <th>5</th>\n",
       "      <td>Run!</td>\n",
       "      <td>¡Corre!</td>\n",
       "    </tr>\n",
       "    <tr>\n",
       "      <th>6</th>\n",
       "      <td>Run.</td>\n",
       "      <td>Corred.</td>\n",
       "    </tr>\n",
       "    <tr>\n",
       "      <th>7</th>\n",
       "      <td>Who?</td>\n",
       "      <td>¿Quién?</td>\n",
       "    </tr>\n",
       "    <tr>\n",
       "      <th>8</th>\n",
       "      <td>Fire!</td>\n",
       "      <td>¡Fuego!</td>\n",
       "    </tr>\n",
       "    <tr>\n",
       "      <th>9</th>\n",
       "      <td>Fire!</td>\n",
       "      <td>¡Incendio!</td>\n",
       "    </tr>\n",
       "  </tbody>\n",
       "</table>\n",
       "</div>"
      ]
     },
     "execution_count": 21,
     "metadata": {},
     "output_type": "execute_result"
    }
   ],
   "execution_count": 21
  },
  {
   "metadata": {
    "ExecuteTime": {
     "end_time": "2025-09-17T15:02:00.448490Z",
     "start_time": "2025-09-17T15:02:00.434184Z"
    }
   },
   "cell_type": "code",
   "source": [
    "partes_original = np.array_split(dataset, 10)\n",
    "df1, df2, df3, df4, df5, df6, df7, df8, df9, df10 = partes_original"
   ],
   "id": "887ffe714b00470e",
   "outputs": [
    {
     "name": "stderr",
     "output_type": "stream",
     "text": [
      "/opt/anaconda3/envs/TFM/lib/python3.10/site-packages/numpy/core/fromnumeric.py:59: FutureWarning: 'DataFrame.swapaxes' is deprecated and will be removed in a future version. Please use 'DataFrame.transpose' instead.\n",
      "  return bound(*args, **kwds)\n"
     ]
    }
   ],
   "execution_count": 22
  },
  {
   "metadata": {
    "ExecuteTime": {
     "end_time": "2025-09-17T15:02:00.468987Z",
     "start_time": "2025-09-17T15:02:00.466119Z"
    }
   },
   "cell_type": "code",
   "source": "df1.shape, df2.shape, df3.shape, df4.shape, df5.shape, df6.shape, df7.shape",
   "id": "ac541429ff79ee41",
   "outputs": [
    {
     "data": {
      "text/plain": [
       "((11897, 2),\n",
       " (11897, 2),\n",
       " (11897, 2),\n",
       " (11897, 2),\n",
       " (11896, 2),\n",
       " (11896, 2),\n",
       " (11896, 2))"
      ]
     },
     "execution_count": 23,
     "metadata": {},
     "output_type": "execute_result"
    }
   ],
   "execution_count": 23
  },
  {
   "metadata": {
    "ExecuteTime": {
     "end_time": "2025-09-17T15:02:00.495345Z",
     "start_time": "2025-09-17T15:02:00.488549Z"
    }
   },
   "cell_type": "code",
   "source": [
    "# Crear la versión inversa del dataset\n",
    "df_invertido_1 = df1.rename(columns={\"idioma\": \"traduccion\", \"traduccion\": \"idioma\"})\n",
    "df_invertido_2 = df2.rename(columns={\"idioma\": \"traduccion\", \"traduccion\": \"idioma\"})\n",
    "df_invertido_3 = df3.rename(columns={\"idioma\": \"traduccion\", \"traduccion\": \"idioma\"})\n",
    "df_invertido_4 = df4.rename(columns={\"idioma\": \"traduccion\", \"traduccion\": \"idioma\"})\n",
    "df_invertido_5 = df5.rename(columns={\"idioma\": \"traduccion\", \"traduccion\": \"idioma\"})\n",
    "df_invertido_6 = df6.rename(columns={\"idioma\": \"traduccion\", \"traduccion\": \"idioma\"})\n",
    "df_invertido_7 = df7.rename(columns={\"idioma\": \"traduccion\", \"traduccion\": \"idioma\"})\n",
    "df_invertido_8 = df8.rename(columns={\"idioma\": \"traduccion\", \"traduccion\": \"idioma\"})\n",
    "df_invertido_9 = df9.rename(columns={\"idioma\": \"traduccion\", \"traduccion\": \"idioma\"})\n",
    "df_invertido_10 = df10.rename(columns={\"idioma\": \"traduccion\", \"traduccion\": \"idioma\"})"
   ],
   "id": "4dd496eb2735e475",
   "outputs": [],
   "execution_count": 24
  },
  {
   "metadata": {
    "ExecuteTime": {
     "end_time": "2025-09-17T15:02:00.517929Z",
     "start_time": "2025-09-17T15:02:00.510776Z"
    }
   },
   "cell_type": "code",
   "source": [
    "# Concatenar el dataset original con el inverso\n",
    "df_final_1 = pd.concat([df1, df_invertido_1], ignore_index=True)\n",
    "df_final_2 = pd.concat([df2, df_invertido_2], ignore_index=True)\n",
    "df_final_3 = pd.concat([df3, df_invertido_3], ignore_index=True)\n",
    "df_final_4 = pd.concat([df4, df_invertido_4], ignore_index=True)\n",
    "df_final_5 = pd.concat([df5, df_invertido_5], ignore_index=True)\n",
    "df_final_6 = pd.concat([df6, df_invertido_6], ignore_index=True)\n",
    "df_final_7 = pd.concat([df7, df_invertido_7], ignore_index=True)\n",
    "df_final_8 = pd.concat([df8, df_invertido_8], ignore_index=True)\n",
    "df_final_9 = pd.concat([df9, df_invertido_9], ignore_index=True)\n",
    "df_final_10 = pd.concat([df10, df_invertido_10], ignore_index=True)"
   ],
   "id": "ec2356c52b8017e3",
   "outputs": [],
   "execution_count": 25
  },
  {
   "metadata": {
    "ExecuteTime": {
     "end_time": "2025-09-17T15:02:00.535608Z",
     "start_time": "2025-09-17T15:02:00.532735Z"
    }
   },
   "cell_type": "code",
   "source": "df_final_3.head()",
   "id": "b1eead904e58b20e",
   "outputs": [
    {
     "data": {
      "text/plain": [
       "                  idioma                      traduccion\n",
       "0  I had no alternative.            No tuve alternativa.\n",
       "1  I had no time to eat.   No me ha dado tiempo a comer.\n",
       "2  I had to let Tom win.  Tuve que dejar que Tom ganara.\n",
       "3  I had to let Tom win.     Tuve que dejar ganar a Tom.\n",
       "4  I hate Tom's parents.       Odio a los padres de Tom."
      ],
      "text/html": [
       "<div>\n",
       "<style scoped>\n",
       "    .dataframe tbody tr th:only-of-type {\n",
       "        vertical-align: middle;\n",
       "    }\n",
       "\n",
       "    .dataframe tbody tr th {\n",
       "        vertical-align: top;\n",
       "    }\n",
       "\n",
       "    .dataframe thead th {\n",
       "        text-align: right;\n",
       "    }\n",
       "</style>\n",
       "<table border=\"1\" class=\"dataframe\">\n",
       "  <thead>\n",
       "    <tr style=\"text-align: right;\">\n",
       "      <th></th>\n",
       "      <th>idioma</th>\n",
       "      <th>traduccion</th>\n",
       "    </tr>\n",
       "  </thead>\n",
       "  <tbody>\n",
       "    <tr>\n",
       "      <th>0</th>\n",
       "      <td>I had no alternative.</td>\n",
       "      <td>No tuve alternativa.</td>\n",
       "    </tr>\n",
       "    <tr>\n",
       "      <th>1</th>\n",
       "      <td>I had no time to eat.</td>\n",
       "      <td>No me ha dado tiempo a comer.</td>\n",
       "    </tr>\n",
       "    <tr>\n",
       "      <th>2</th>\n",
       "      <td>I had to let Tom win.</td>\n",
       "      <td>Tuve que dejar que Tom ganara.</td>\n",
       "    </tr>\n",
       "    <tr>\n",
       "      <th>3</th>\n",
       "      <td>I had to let Tom win.</td>\n",
       "      <td>Tuve que dejar ganar a Tom.</td>\n",
       "    </tr>\n",
       "    <tr>\n",
       "      <th>4</th>\n",
       "      <td>I hate Tom's parents.</td>\n",
       "      <td>Odio a los padres de Tom.</td>\n",
       "    </tr>\n",
       "  </tbody>\n",
       "</table>\n",
       "</div>"
      ]
     },
     "execution_count": 26,
     "metadata": {},
     "output_type": "execute_result"
    }
   ],
   "execution_count": 26
  },
  {
   "metadata": {
    "ExecuteTime": {
     "end_time": "2025-09-17T15:02:00.566985Z",
     "start_time": "2025-09-17T15:02:00.563862Z"
    }
   },
   "cell_type": "code",
   "source": "df_final_3.tail()",
   "id": "e9fa489ff3a8d19b",
   "outputs": [
    {
     "data": {
      "text/plain": [
       "                                idioma                traduccion\n",
       "23789  No se me dan bien los deportes.  I am not good at sports.\n",
       "23790       Estoy pintando mi cochera.  I am painting my garage.\n",
       "23791                 Me alegra verte.  I am pleased to see you.\n",
       "23792    Ahora estoy leyendo un libro.  I am reading a book now.\n",
       "23793       Estoy leyendo una revista.  I am reading a magazine."
      ],
      "text/html": [
       "<div>\n",
       "<style scoped>\n",
       "    .dataframe tbody tr th:only-of-type {\n",
       "        vertical-align: middle;\n",
       "    }\n",
       "\n",
       "    .dataframe tbody tr th {\n",
       "        vertical-align: top;\n",
       "    }\n",
       "\n",
       "    .dataframe thead th {\n",
       "        text-align: right;\n",
       "    }\n",
       "</style>\n",
       "<table border=\"1\" class=\"dataframe\">\n",
       "  <thead>\n",
       "    <tr style=\"text-align: right;\">\n",
       "      <th></th>\n",
       "      <th>idioma</th>\n",
       "      <th>traduccion</th>\n",
       "    </tr>\n",
       "  </thead>\n",
       "  <tbody>\n",
       "    <tr>\n",
       "      <th>23789</th>\n",
       "      <td>No se me dan bien los deportes.</td>\n",
       "      <td>I am not good at sports.</td>\n",
       "    </tr>\n",
       "    <tr>\n",
       "      <th>23790</th>\n",
       "      <td>Estoy pintando mi cochera.</td>\n",
       "      <td>I am painting my garage.</td>\n",
       "    </tr>\n",
       "    <tr>\n",
       "      <th>23791</th>\n",
       "      <td>Me alegra verte.</td>\n",
       "      <td>I am pleased to see you.</td>\n",
       "    </tr>\n",
       "    <tr>\n",
       "      <th>23792</th>\n",
       "      <td>Ahora estoy leyendo un libro.</td>\n",
       "      <td>I am reading a book now.</td>\n",
       "    </tr>\n",
       "    <tr>\n",
       "      <th>23793</th>\n",
       "      <td>Estoy leyendo una revista.</td>\n",
       "      <td>I am reading a magazine.</td>\n",
       "    </tr>\n",
       "  </tbody>\n",
       "</table>\n",
       "</div>"
      ]
     },
     "execution_count": 27,
     "metadata": {},
     "output_type": "execute_result"
    }
   ],
   "execution_count": 27
  },
  {
   "metadata": {
    "ExecuteTime": {
     "end_time": "2025-09-17T15:02:00.645956Z",
     "start_time": "2025-09-17T15:02:00.644209Z"
    }
   },
   "cell_type": "code",
   "source": [
    "nombre_dataset_generado_1 = \"texto1.csv\"\n",
    "nombre_dataset_generado_2 = \"texto2.csv\"\n",
    "nombre_dataset_generado_3 = \"texto3.csv\"\n",
    "nombre_dataset_generado_4 = \"texto4.csv\"\n",
    "nombre_dataset_generado_5 = \"texto5.csv\"\n",
    "nombre_dataset_generado_6 = \"texto6.csv\"\n",
    "nombre_dataset_generado_7 = \"texto7.csv\"\n",
    "nombre_dataset_generado_8 = \"texto8.csv\"\n",
    "nombre_dataset_generado_9 = \"texto9.csv\"\n",
    "nombre_dataset_generado_10 = \"texto10.csv\""
   ],
   "id": "49836ed990eb099f",
   "outputs": [],
   "execution_count": 28
  },
  {
   "metadata": {
    "ExecuteTime": {
     "end_time": "2025-09-17T15:02:00.854986Z",
     "start_time": "2025-09-17T15:02:00.667484Z"
    }
   },
   "cell_type": "code",
   "source": [
    "# Opcional: guardar el nuevo dataset\n",
    "df_final_1.to_csv(nombre_dataset_generado_1, index=False)\n",
    "df_final_2.to_csv(nombre_dataset_generado_2, index=False)\n",
    "df_final_3.to_csv(nombre_dataset_generado_3, index=False)\n",
    "df_final_4.to_csv(nombre_dataset_generado_4, index=False)\n",
    "df_final_5.to_csv(nombre_dataset_generado_5, index=False)\n",
    "df_final_6.to_csv(nombre_dataset_generado_6, index=False)\n",
    "df_final_7.to_csv(nombre_dataset_generado_7, index=False)\n",
    "df_final_8.to_csv(nombre_dataset_generado_8, index=False)\n",
    "df_final_9.to_csv(nombre_dataset_generado_9, index=False)\n",
    "df_final_10.to_csv(nombre_dataset_generado_10, index=False)"
   ],
   "id": "bed68388c976d7a5",
   "outputs": [],
   "execution_count": 29
  }
 ],
 "metadata": {
  "kernelspec": {
   "display_name": "Python 3",
   "language": "python",
   "name": "python3"
  },
  "language_info": {
   "codemirror_mode": {
    "name": "ipython",
    "version": 2
   },
   "file_extension": ".py",
   "mimetype": "text/x-python",
   "name": "python",
   "nbconvert_exporter": "python",
   "pygments_lexer": "ipython2",
   "version": "2.7.6"
  }
 },
 "nbformat": 4,
 "nbformat_minor": 5
}
