{
 "cells": [
  {
   "metadata": {
    "ExecuteTime": {
     "end_time": "2025-09-05T08:01:02.649079Z",
     "start_time": "2025-09-05T08:01:02.635792Z"
    }
   },
   "cell_type": "code",
   "source": [
    "# pip install langdetect\n",
    "from langdetect import detect\n",
    "\n",
    "def detectar_idioma(texto):\n",
    "    lang = detect(texto)\n",
    "    if lang == \"en\":\n",
    "        return \"en_XX\"\n",
    "    elif lang == \"es\":\n",
    "        return \"es_XX\"\n",
    "    else:\n",
    "        return \"en_XX\"  # fallback\n",
    "\n",
    "# Ejemplo\n",
    "frases = [\"Hello, how are you?\", \"Hola, ¿cómo estás?\"]\n",
    "\n",
    "for f in frases:\n",
    "    lang_code = detectar_idioma(f)\n",
    "    print(f\"'{f}' → {lang_code}\")\n"
   ],
   "id": "6ece56257a3647e9",
   "outputs": [
    {
     "name": "stdout",
     "output_type": "stream",
     "text": [
      "'Hello, how are you?' → en_XX\n",
      "'Hola, ¿cómo estás?' → es_XX\n"
     ]
    }
   ],
   "execution_count": 17
  },
  {
   "metadata": {
    "ExecuteTime": {
     "end_time": "2025-09-05T08:01:03.808021Z",
     "start_time": "2025-09-05T08:01:02.654720Z"
    }
   },
   "cell_type": "code",
   "source": [
    "from transformers import MBart50TokenizerFast\n",
    "\n",
    "# mbart es un modelo ya pre-entrenado que se usa para la traducción multilingüe.\n",
    "# se basa en la técnica de SentencePiece, que divide una palabra en varios tokens, divide en subpalabras\n",
    "tokenizer = MBart50TokenizerFast.from_pretrained(\"facebook/mbart-large-50-many-to-many-mmt\")\n",
    "tokenizer.src_lang = \"en_XX\"\n",
    "\n",
    "texto = (\"Hola que tal estamos?\")\n",
    "\n",
    "# Con tokens especiales\n",
    "tokens_con = tokenizer(texto, add_special_tokens=True, return_tensors=\"pt\")\n",
    "print(\"Con BOS/EOS:\", tokens_con.input_ids)\n",
    "\n",
    "# Sin tokens especiales\n",
    "tokens_sin = tokenizer(texto, add_special_tokens=False, return_tensors=\"pt\")\n",
    "print(\"Sin BOS/EOS:\", tokens_sin.input_ids)"
   ],
   "id": "9fe2311acc6dc402",
   "outputs": [
    {
     "name": "stdout",
     "output_type": "stream",
     "text": [
      "Con BOS/EOS: tensor([[250004,  47958,     41,   2776,  18316,     32,      2]])\n",
      "Sin BOS/EOS: tensor([[47958,    41,  2776, 18316,    32]])\n"
     ]
    }
   ],
   "execution_count": 18
  },
  {
   "metadata": {
    "ExecuteTime": {
     "end_time": "2025-09-05T08:01:03.869903Z",
     "start_time": "2025-09-05T08:01:03.867541Z"
    }
   },
   "cell_type": "code",
   "source": [
    "subtexto = tokenizer.tokenize(texto)\n",
    "subtexto"
   ],
   "id": "411fe6ea03daf008",
   "outputs": [
    {
     "data": {
      "text/plain": [
       "['▁Hola', '▁que', '▁tal', '▁estamos', '?']"
      ]
     },
     "execution_count": 19,
     "metadata": {},
     "output_type": "execute_result"
    }
   ],
   "execution_count": 19
  },
  {
   "metadata": {
    "ExecuteTime": {
     "end_time": "2025-09-05T08:11:43.291445Z",
     "start_time": "2025-09-05T08:11:41.779476Z"
    }
   },
   "cell_type": "code",
   "source": [
    "#from tokenizers import Tokenizer\n",
    "from transformers import AutoTokenizer\n",
    "\n",
    "#tokenizer = Tokenizer.from_file(\"tokenizer_bpe.json\")  # tu archivo\n",
    "tokenizer = AutoTokenizer.from_pretrained(\"facebook/mbart-large-50-many-to-many-mmt\")\n",
    "\n",
    "ids = [101, 3456, 789, 2]  # ejemplo de salida de tu decodificador\n",
    "texto = tokenizer.decode(tokens_con[\"input_ids\"][0], skip_special_tokens=True)\n",
    "print(texto)"
   ],
   "id": "2861f602efd3d435",
   "outputs": [
    {
     "name": "stdout",
     "output_type": "stream",
     "text": [
      "Hola que tal estamos?\n"
     ]
    }
   ],
   "execution_count": 24
  },
  {
   "metadata": {
    "ExecuteTime": {
     "end_time": "2025-09-05T08:12:03.859659Z",
     "start_time": "2025-09-05T08:12:03.853090Z"
    }
   },
   "cell_type": "code",
   "source": "tokens_con",
   "id": "6d59a265ae9b4a58",
   "outputs": [
    {
     "data": {
      "text/plain": [
       "{'input_ids': tensor([[250004,  47958,     41,   2776,  18316,     32,      2]]), 'attention_mask': tensor([[1, 1, 1, 1, 1, 1, 1]])}"
      ]
     },
     "execution_count": 25,
     "metadata": {},
     "output_type": "execute_result"
    }
   ],
   "execution_count": 25
  }
 ],
 "metadata": {
  "kernelspec": {
   "display_name": "Python 3",
   "language": "python",
   "name": "python3"
  },
  "language_info": {
   "codemirror_mode": {
    "name": "ipython",
    "version": 2
   },
   "file_extension": ".py",
   "mimetype": "text/x-python",
   "name": "python",
   "nbconvert_exporter": "python",
   "pygments_lexer": "ipython2",
   "version": "2.7.6"
  }
 },
 "nbformat": 4,
 "nbformat_minor": 5
}
